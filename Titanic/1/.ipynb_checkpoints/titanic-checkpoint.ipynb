{
 "cells": [
  {
   "cell_type": "code",
   "execution_count": 27,
   "metadata": {
    "collapsed": true
   },
   "outputs": [],
   "source": [
    "import pandas as pd\n",
    "import pprint\n",
    "import matplotlib.pyplot as plt\n",
    "import numpy as np"
   ]
  },
  {
   "cell_type": "code",
   "execution_count": 11,
   "metadata": {
    "collapsed": true
   },
   "outputs": [],
   "source": [
    "%matplotlib inline"
   ]
  },
  {
   "cell_type": "markdown",
   "metadata": {},
   "source": [
    "# Load the data"
   ]
  },
  {
   "cell_type": "code",
   "execution_count": 85,
   "metadata": {
    "collapsed": false
   },
   "outputs": [],
   "source": [
    "dtypes = {\n",
    "    'PassengerId': int,\n",
    "    'Survived': int,\n",
    "    'Pclass': int,\n",
    "    'Name': str,\n",
    "    'Sex': str,\n",
    "    'Age': str,\n",
    "    'SibSp': int,\n",
    "    'Parch': int,\n",
    "    'Ticket': int,\n",
    "    'Fare': float,\n",
    "    'Cabin': str,\n",
    "    'Embarked': str,\n",
    "         }\n",
    "\n",
    "files = {\n",
    "    'train': '../data/train.csv',\n",
    "    'test':  '../data/test.csv',\n",
    "        }\n",
    "d = {}\n",
    "\n",
    "for f in files:\n",
    "    d[f] = pd.read_csv(files[f], index_col=0)"
   ]
  },
  {
   "cell_type": "markdown",
   "metadata": {},
   "source": [
    "# Using gender as a model"
   ]
  },
  {
   "cell_type": "markdown",
   "metadata": {},
   "source": [
    "For a first model, try females survive, males do not.  "
   ]
  },
  {
   "cell_type": "code",
   "execution_count": null,
   "metadata": {
    "collapsed": true
   },
   "outputs": [],
   "source": [
    "# Create masks for women and men\n",
    "women_only = d['train']['Sex'] == 'female'\n",
    "men_only = d['train']['Sex'] == 'male'"
   ]
  },
  {
   "cell_type": "code",
   "execution_count": 51,
   "metadata": {
    "collapsed": false
   },
   "outputs": [
    {
     "name": "stdout",
     "output_type": "stream",
     "text": [
      "Proportion of women survived: 0.7420382165605095\n",
      "Proportion of men survived: 0.18890814558058924\n"
     ]
    }
   ],
   "source": [
    "# Get dataframes for men and women\n",
    "women_onboard = d['train'][women_only]\n",
    "men_onboard =   d['train'][men_only]\n",
    "\n",
    "# 1 is survived, 0 is not, so take sum of column and then divide by total count of entries\n",
    "proportion_women_survived = women_onboard['Survived'].sum() / women_onboard['Survived'].count()\n",
    "print('Proportion of women survived: {}'.format(proportion_women_survived))\n",
    "proportion_men_survived = men_onboard['Survived'].sum() / men_onboard['Survived'].count()\n",
    "print('Proportion of men survived: {}'.format(proportion_men_survived))\n"
   ]
  },
  {
   "cell_type": "markdown",
   "metadata": {},
   "source": [
    "Looks like a strong trend.  Use this as the model for test predictions."
   ]
  },
  {
   "cell_type": "code",
   "execution_count": 86,
   "metadata": {
    "collapsed": false
   },
   "outputs": [],
   "source": [
    "# Define a function that returns survival based on gender.\n",
    "def model_sex(ds):\n",
    "    \"\"\"\n",
    "    Predict survival based on gender.  Return a pd.Series object so that the result from \n",
    "    .apply will be a dataframe\"\"\"\n",
    "    if ds['Sex'] == 'female':\n",
    "        return pd.Series({'Survived': 1})\n",
    "    else:\n",
    "        return pd.Series({'Survived': 0})\n",
    "\n",
    "# Using the above model, apply it to each row of the dataframe.\n",
    "# axis=1 looks at each row at a time, then the function above takes that ds and works\n",
    "# using the 'Sex' column in that row. \n",
    "p_genderbasedmodel = d['test'].apply(model_sex, axis=1)\n",
    "# print(p_genderbasedmodel)"
   ]
  },
  {
   "cell_type": "markdown",
   "metadata": {},
   "source": [
    "Using the gender model, make a submission file for the Kaggle competition."
   ]
  },
  {
   "cell_type": "code",
   "execution_count": 84,
   "metadata": {
    "collapsed": true
   },
   "outputs": [],
   "source": [
    "p_genderbasedmodel.to_csv('genderbasedmodel.csv')"
   ]
  },
  {
   "cell_type": "markdown",
   "metadata": {},
   "source": [
    "# Using a bit more than gender..."
   ]
  },
  {
   "cell_type": "markdown",
   "metadata": {},
   "source": [
    "Make a table of data that shows the chance of survival for any combination of Sex [male, female], Class [1, 2, 3], and Fare"
   ]
  },
  {
   "cell_type": "code",
   "execution_count": 126,
   "metadata": {
    "collapsed": false
   },
   "outputs": [
    {
     "name": "stdout",
     "output_type": "stream",
     "text": [
      "[[[ 0.                 nan  0.4         0.38372093]\n",
      "  [ 0.          0.15873016  0.16        0.21428571]\n",
      "  [ 0.11153846  0.23684211  0.125       0.24      ]]\n",
      "\n",
      " [[        nan         nan  0.83333333  0.97727273]\n",
      "  [        nan  0.91428571  0.9         1.        ]\n",
      "  [ 0.59375     0.58139535  0.33333333  0.125     ]]]\n"
     ]
    }
   ],
   "source": [
    "classes = [1, 2, 3]\n",
    "fare_ranges = [[-np.inf, 10], [10, 20], [20, 30], [30, np.inf]]\n",
    "genders = ['male', 'female']\n",
    "survival_table = np.zeros((len(genders), len(classes), len(fare_ranges)))\n",
    "for i in range(len(classes)):\n",
    "    for j in range(len(fare_ranges)):\n",
    "        for k in range(len(genders)):\n",
    "#             print(\"{} {} {}\".format(classes[i], fare_ranges[j], genders[k]))\n",
    "            stats = d['train'][\n",
    "                        (d['train']['Sex'] == genders[k]) &\n",
    "                        (d['train']['Pclass'] == classes[i]) &\n",
    "                        (d['train']['Fare'] >= fare_ranges[j][0]) & \n",
    "                        (d['train']['Fare'] < fare_ranges[j][1])\n",
    "                     ]\n",
    "#             print(stats.count())\n",
    "            survival_table[k,i,j] = stats['Survived'].mean(skipna=True)\n",
    "#         print(women_only_stats)\n",
    "\n",
    "print(survival_table)\n"
   ]
  },
  {
   "cell_type": "code",
   "execution_count": 127,
   "metadata": {
    "collapsed": false
   },
   "outputs": [
    {
     "name": "stdout",
     "output_type": "stream",
     "text": [
      "[[[ 0.          0.          0.4         0.38372093]\n",
      "  [ 0.          0.15873016  0.16        0.21428571]\n",
      "  [ 0.11153846  0.23684211  0.125       0.24      ]]\n",
      "\n",
      " [[ 0.          0.          0.83333333  0.97727273]\n",
      "  [ 0.          0.91428571  0.9         1.        ]\n",
      "  [ 0.59375     0.58139535  0.33333333  0.125     ]]]\n"
     ]
    }
   ],
   "source": [
    "# One way of finding nan is by checking if elements are equal to themselves:\n",
    "# survival_table != survival_table\n",
    "\n",
    "# But something that feels more intuitive is...\n",
    "survival_table[np.isnan(survival_table)] = 0\n",
    "print(survival_table)"
   ]
  },
  {
   "cell_type": "markdown",
   "metadata": {},
   "source": [
    "Using this, create a survival table based on whether each category is >0.5 or <0.5. \n",
    "Also, pretty much all men die..."
   ]
  },
  {
   "cell_type": "code",
   "execution_count": 128,
   "metadata": {
    "collapsed": false
   },
   "outputs": [
    {
     "name": "stdout",
     "output_type": "stream",
     "text": [
      "[[[ 0.  0.  0.  0.]\n",
      "  [ 0.  0.  0.  0.]\n",
      "  [ 0.  0.  0.  0.]]\n",
      "\n",
      " [[ 0.  0.  1.  1.]\n",
      "  [ 0.  1.  1.  1.]\n",
      "  [ 1.  1.  0.  0.]]]\n"
     ]
    }
   ],
   "source": [
    "survival_table[survival_table >= 0.5] = 1\n",
    "survival_table[survival_table < 0.5] = 0\n",
    "print(survival_table)"
   ]
  },
  {
   "cell_type": "markdown",
   "metadata": {},
   "source": [
    "Apply the survival table above to the data.\n",
    "\n",
    "Process the data into fare bins first"
   ]
  },
  {
   "cell_type": "code",
   "execution_count": 165,
   "metadata": {
    "collapsed": false
   },
   "outputs": [],
   "source": [
    "d['genderclass'] = d['test'].copy()\n",
    "def fare_bin(ds):\n",
    "    if np.isnan(ds['Fare']):\n",
    "        # Use Pclass as a surrogate for fare group.  Take first class as the\n",
    "        # top Fare bin and work backward\n",
    "        return len(fare_ranges) - ds['Pclass']\n",
    "    for i in range(len(fare_ranges)):\n",
    "        if ds['Fare'] >= fare_ranges[i][0] and ds['Fare'] < fare_ranges[i][1]:\n",
    "            return i\n",
    "    raise ValueError('Fare outside all fare ranges')   \n",
    "    \n",
    "d['genderclass']['Fare_bin'] = d['genderclass'].apply(fare_bin, axis=1)"
   ]
  },
  {
   "cell_type": "markdown",
   "metadata": {},
   "source": [
    "Add in bins for gender (male/female labels are pain)"
   ]
  },
  {
   "cell_type": "code",
   "execution_count": 180,
   "metadata": {
    "collapsed": true
   },
   "outputs": [],
   "source": [
    "def gender_bin(ds):\n",
    "    if ds['Sex'] == 'male':\n",
    "        return 0\n",
    "    elif ds['Sex'] == 'female':\n",
    "        return 1\n",
    "    else:\n",
    "        raise ValueError('Invalid sex')\n",
    "\n",
    "d['genderclass']['Sex_bin'] = d['genderclass'].apply(gender_bin, axis=1)"
   ]
  },
  {
   "cell_type": "markdown",
   "metadata": {},
   "source": [
    "Class is 0-indexed"
   ]
  },
  {
   "cell_type": "code",
   "execution_count": 192,
   "metadata": {
    "collapsed": true
   },
   "outputs": [],
   "source": [
    "def class_bin(ds):\n",
    "    return ds['Pclass'] - 1\n",
    "d['genderclass']['Pclass_bin'] = d['genderclass'].apply(class_bin, axis=1)"
   ]
  },
  {
   "cell_type": "markdown",
   "metadata": {},
   "source": [
    "Predict survival given the survival table and a data record"
   ]
  },
  {
   "cell_type": "code",
   "execution_count": 209,
   "metadata": {
    "collapsed": true
   },
   "outputs": [],
   "source": [
    "def model_genderclass(ds, survival_table, index_labels):\n",
    "    \"\"\"\n",
    "    Return survival given a record as a Pandas DataSeries and a survival table.\n",
    "    \n",
    "    :inputs:\n",
    "    :ds: Pandas DataSeries of a single record\n",
    "    :survival_table: an N-dimensional survival table\n",
    "    :index_labels: An N-element list if DataSeries column labels corresponding \n",
    "                   to the dimensions of the survival table, ie:\n",
    "                     ['Fare', 'Sex']\n",
    "                   means survival = survival_table[ds['Fare']][ds['Sex']]\n",
    "                   \n",
    "    Returns as a Pandas DataSeries so that when using with apply, it becomes a \n",
    "    dataframe\n",
    "    \"\"\"\n",
    "#         return pd.Series({'Survived': 1})\n",
    "\n",
    "    indices = [ds[l] for l in index_labels]\n",
    "    \n",
    "    def rec_list_lookup(lst, indices):\n",
    "        if len(indices) == 1:\n",
    "            return lst[indices[0]]\n",
    "        else:\n",
    "            return rec_list_lookup(lst[indices[0]], indices[1:])\n",
    "    \n",
    "    return pd.Series({'Survived': int(rec_list_lookup(survival_table, indices))})\n",
    "    "
   ]
  },
  {
   "cell_type": "code",
   "execution_count": 210,
   "metadata": {
    "collapsed": false
   },
   "outputs": [],
   "source": [
    "p_genderclassbasedmodel = d['genderclass'].apply(\n",
    "    model_genderclass, axis=1, args=(survival_table, ['Sex_bin', 'Pclass_bin', 'Fare_bin',]))"
   ]
  },
  {
   "cell_type": "code",
   "execution_count": 213,
   "metadata": {
    "collapsed": false
   },
   "outputs": [],
   "source": [
    "p_genderclassbasedmodel.to_csv('genderclassbasedmodel.csv')"
   ]
  }
 ],
 "metadata": {
  "kernelspec": {
   "display_name": "Python 3",
   "language": "python",
   "name": "python3"
  },
  "language_info": {
   "codemirror_mode": {
    "name": "ipython",
    "version": 3
   },
   "file_extension": ".py",
   "mimetype": "text/x-python",
   "name": "python",
   "nbconvert_exporter": "python",
   "pygments_lexer": "ipython3",
   "version": "3.5.2"
  }
 },
 "nbformat": 4,
 "nbformat_minor": 0
}
