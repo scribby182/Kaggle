{
 "cells": [
  {
   "cell_type": "markdown",
   "metadata": {},
   "source": [
    "# Clean up the full train and test datasets"
   ]
  },
  {
   "cell_type": "code",
   "execution_count": 1,
   "metadata": {
    "collapsed": true
   },
   "outputs": [],
   "source": [
    "%matplotlib inline"
   ]
  },
  {
   "cell_type": "code",
   "execution_count": 2,
   "metadata": {
    "collapsed": true
   },
   "outputs": [],
   "source": [
    "import pandas as pd\n",
    "import numpy as np\n",
    "import matplotlib.pyplot as plt\n",
    "import pprint\n",
    "from IPython.display import display, HTML\n",
    "from sklearn.preprocessing import Imputer\n",
    "from sklearn.base import TransformerMixin\n",
    "from sklearn import linear_model"
   ]
  },
  {
   "cell_type": "markdown",
   "metadata": {},
   "source": [
    "## Load Data"
   ]
  },
  {
   "cell_type": "code",
   "execution_count": 3,
   "metadata": {
    "collapsed": true
   },
   "outputs": [],
   "source": [
    "train_file = \"../data/train.csv\"\n",
    "train = pd.read_csv(train_file, index_col=0)\n",
    "\n",
    "test_file = \"../data/test.csv\"\n",
    "test = pd.read_csv(test_file, index_col=0)"
   ]
  },
  {
   "cell_type": "markdown",
   "metadata": {},
   "source": [
    "## Clean the data"
   ]
  },
  {
   "cell_type": "markdown",
   "metadata": {},
   "source": [
    "### Impute the numeric data"
   ]
  },
  {
   "cell_type": "code",
   "execution_count": 5,
   "metadata": {
    "collapsed": false
   },
   "outputs": [],
   "source": [
    "cols_numeric = train.select_dtypes(include=[np.number]).columns.tolist()\n",
    "\n",
    "# Don't want to impute on sale price...\n",
    "cols_numeric.remove('SalePrice')\n",
    "\n",
    "# Look down each column and replace missing values with the median of that column \n",
    "# (since we're using integers, median seemed to make more sense)\n",
    "# Imputer is trained on the training data, NOT the test data!\n",
    "imp_numeric = Imputer(missing_values='NaN', strategy='median', axis=0)\n",
    "imp_numeric.fit(train[cols_numeric])\n",
    "\n",
    "# train_imputed = train.copy()\n",
    "train[cols_numeric] = imp_numeric.transform(train[cols_numeric])\n",
    "# test_imputed  = test.copy()\n",
    "test[cols_numeric]  = imp_numeric.transform(test[cols_numeric])"
   ]
  },
  {
   "cell_type": "markdown",
   "metadata": {},
   "source": [
    "### Handle the non-numeric columns"
   ]
  },
  {
   "cell_type": "markdown",
   "metadata": {},
   "source": [
    "### sklearn has OneHotEncoder, but pandas now has a built in get_dummies()\n",
    "see:\n",
    "* http://fastml.com/converting-categorical-data-into-numbers-with-pandas-and-scikit-learn/\n",
    "* http://pandas.pydata.org/pandas-docs/stable/generated/pandas.get_dummies.html"
   ]
  },
  {
   "cell_type": "markdown",
   "metadata": {},
   "source": [
    "Make an imputer for categoricals.  Inherrit the TransformerMixin for .fit and .transform"
   ]
  },
  {
   "cell_type": "code",
   "execution_count": 11,
   "metadata": {
    "collapsed": false
   },
   "outputs": [],
   "source": [
    "class CategoricalImputer(TransformerMixin):\n",
    "    \n",
    "    def __init__(self):\n",
    "        \"\"\"Impute missing categorical values by replacing them with the most common value.\n",
    "        \n",
    "        Adapted from http://stackoverflow.com/questions/25239958/impute-categorical-missing-values-in-scikit-learn\n",
    "        \"\"\"\n",
    "        \n",
    "    def fit(self, X, y=None):\n",
    "        # Make a pd.Series that has a fill value for each column (use np.nan for anything non-categorical)\n",
    "        self.fill = pd.Series([X[c].value_counts().index[0] if X[c].dtype == np.dtype('O') else np.nan for c in X ], index=X.columns)\n",
    "        return self\n",
    "    \n",
    "    def transform(self, X, y=None):\n",
    "        return X.fillna(self.fill)\n",
    "    \n",
    "# Example:\n",
    "\n",
    "# data = [\n",
    "#     ['a', 1, 2],\n",
    "#     ['b', 1, 1],\n",
    "#     ['b', 2, 2],\n",
    "#     [np.nan, np.nan, np.nan]\n",
    "# ]\n",
    "\n",
    "# X = pd.DataFrame(data)\n",
    "# xt = CategoricalImputer().fit_transform(X)\n",
    "\n",
    "# print('before...')\n",
    "# print(X)\n",
    "# print('after...')\n",
    "# print(xt)"
   ]
  },
  {
   "cell_type": "markdown",
   "metadata": {},
   "source": [
    "Get the non-numeric columns\n"
   ]
  },
  {
   "cell_type": "code",
   "execution_count": 8,
   "metadata": {
    "collapsed": false
   },
   "outputs": [],
   "source": [
    "cols_non_numeric = train.select_dtypes(exclude=[np.number]).columns.tolist()\n"
   ]
  },
  {
   "cell_type": "markdown",
   "metadata": {},
   "source": [
    "Many columns have nan, but from the description several use nan as a value.  Only fix the ones that shouldn't have nan"
   ]
  },
  {
   "cell_type": "code",
   "execution_count": 14,
   "metadata": {
    "collapsed": false
   },
   "outputs": [],
   "source": [
    "# Make lists for datasets that could intentionally have nan (typically they mean \"I don't have this feature\")\n",
    "# Any record with a nan in a basement category should have a nan in all basement categories.  Same with garage.  \n",
    "# Groupd those to check\n",
    "nan_bsmt = ['BsmtQual', 'BsmtCond', 'BsmtExposure']\n",
    "nan_garage = ['GarageType', 'GarageQual', 'GarageFinish', 'GarageCond']\n",
    "nan_intentional = ['Alley', \n",
    "                   'FireplaceQu', \n",
    "                   'PoolQC', 'Fence', 'MiscFeature',] + nan_bsmt + nan_garage\n",
    "\n",
    "# Get the other nan's (this would have been easier to just type the unintentional ones, but I was already done listing the intentionals..)\n",
    "# Need to get nan from both train and test.  Get them separately then combine by using sets\n",
    "nan_unintentional_train = set([train[cols_non_numeric].iloc[:,x].name for x in pd.isnull(train[cols_non_numeric]).any().nonzero()[0] if train[cols_non_numeric].iloc[:,x].name not in nan_intentional ])\n",
    "nan_unintentional_test = set([test[cols_non_numeric].iloc[:,x].name for x in pd.isnull(test[cols_non_numeric]).any().nonzero()[0] if test[cols_non_numeric].iloc[:,x].name not in nan_intentional ])\n",
    "nan_unintentional = list(nan_unintentional_train) + list(nan_unintentional_test-nan_unintentional_train)\n",
    "\n",
    "nan_rows_train = pd.isnull(train[nan_unintentional]).any(1).nonzero()[0]\n",
    "nan_rows_train_byId = train.index[nan_rows_train]\n",
    "nan_rows_test = pd.isnull(test[nan_unintentional]).any(1).nonzero()[0]\n",
    "nan_rows_test_byId = test.index[nan_rows_test]\n",
    "\n",
    "imp_categorical = CategoricalImputer()\n",
    "imp_categorical.fit(train[nan_unintentional])\n",
    "# train_imputed_categorical = train.copy()\n",
    "train[nan_unintentional] = imp_categorical.transform(train[nan_unintentional])\n",
    "\n",
    "# And same for test\n",
    "test[nan_unintentional] = imp_categorical.transform(test[nan_unintentional])"
   ]
  },
  {
   "cell_type": "markdown",
   "metadata": {},
   "source": [
    "# Predict using Categoricals"
   ]
  },
  {
   "cell_type": "markdown",
   "metadata": {},
   "source": [
    "## Simple prediction to see if it is working..."
   ]
  },
  {
   "cell_type": "markdown",
   "metadata": {},
   "source": [
    "First fit a simple linear regression model relating OverallQual (which is a 1-10 numeric feature) to SalePrice"
   ]
  },
  {
   "cell_type": "code",
   "execution_count": 16,
   "metadata": {
    "collapsed": false
   },
   "outputs": [
    {
     "data": {
      "text/plain": [
       "[<matplotlib.lines.Line2D at 0x1635209e320>]"
      ]
     },
     "execution_count": 16,
     "metadata": {},
     "output_type": "execute_result"
    },
    {
     "data": {
      "image/png": "[encoded data removed]",
      "text/plain": [
       "<matplotlib.figure.Figure at 0x16351ef8080>"
      ]
     },
     "metadata": {},
     "output_type": "display_data"
    }
   ],
   "source": [
    "estimator = linear_model.LinearRegression(normalize=True)\n",
    "estimator.fit(train[['OverallQual']], train['SalePrice'])\n",
    "\n",
    "x = np.linspace(1,10,10)\n",
    "dfx = pd.DataFrame(data=x, columns=['OverallQual'])\n",
    "plt.plot(x, estimator.predict(dfx), '-')\n",
    "plt.plot(train['OverallQual'], train['SalePrice'], '.')"
   ]
  },
  {
   "cell_type": "markdown",
   "metadata": {},
   "source": [
    "Now regress by pretending OverallQual is categorical (which it sort of is, it was just represented using numbers).  Use one-hot method to translate \"categorical\" to boolean features"
   ]
  },
  {
   "cell_type": "code",
   "execution_count": 22,
   "metadata": {
    "collapsed": false,
    "scrolled": true
   },
   "outputs": [
    {
     "name": "stdout",
     "output_type": "stream",
     "text": [
      "Index(['OverallQual_2.0', 'OverallQual_3.0', 'OverallQual_4.0',\n",
      "       'OverallQual_5.0', 'OverallQual_6.0', 'OverallQual_7.0',\n",
      "       'OverallQual_8.0', 'OverallQual_9.0', 'OverallQual_10.0'],\n",
      "      dtype='object')\n"
     ]
    },
    {
     "data": {
      "text/plain": [
       "[<matplotlib.lines.Line2D at 0x163524a7a20>]"
      ]
     },
     "execution_count": 22,
     "metadata": {},
     "output_type": "execute_result"
    },
    {
     "data": {
      "image/png": "[encoded data removed]",
      "text/plain": [
       "<matplotlib.figure.Figure at 0x1635243fcc0>"
      ]
     },
     "metadata": {},
     "output_type": "display_data"
    }
   ],
   "source": [
    "train_simple_OQ = pd.get_dummies(train[['OverallQual']], columns=['OverallQual'])\n",
    "\n",
    "# Leave one out as you need k-1 indicators for k total results (think of how you need one boolean indicator to represent two results)\n",
    "features = train_simple_OQ.columns[1::]\n",
    "print(features)\n",
    "m = linear_model.LinearRegression(normalize=True) # Does normalize do anything here?\n",
    "m.fit(train_simple_OQ[features], train['SalePrice'])\n",
    "\n",
    "# This is overkill on the plotting.  I could just make a very simple identity matrix to plot all these predictions.\n",
    "# ...but I'm lazy..\n",
    "plt.plot(train['OverallQual'], train['SalePrice'], '.')\n",
    "plt.plot(x, estimator.predict(dfx), '-')\n",
    "plt.plot(train['OverallQual'], m.predict(train_simple_OQ[features]), 'o')"
   ]
  },
  {
   "cell_type": "markdown",
   "metadata": {},
   "source": [
    "Looks even better than the linear regression on the numerics!  ...Although it has more features..."
   ]
  },
  {
   "cell_type": "markdown",
   "metadata": {},
   "source": [
    "Investigating the model we get"
   ]
  },
  {
   "cell_type": "code",
   "execution_count": 23,
   "metadata": {
    "collapsed": false
   },
   "outputs": [
    {
     "name": "stdout",
     "output_type": "stream",
     "text": [
      "50150.0\n"
     ]
    },
    {
     "data": {
      "text/plain": [
       "[('OverallQual_2.0', 1620.3333333350231),\n",
       " ('OverallQual_3.0', 37323.750000001535),\n",
       " ('OverallQual_4.0', 58270.655172415318),\n",
       " ('OverallQual_5.0', 83373.347607054005),\n",
       " ('OverallQual_6.0', 111453.03475935977),\n",
       " ('OverallQual_7.0', 157566.42319749325),\n",
       " ('OverallQual_8.0', 224585.53571428699),\n",
       " ('OverallQual_9.0', 317363.02325581585),\n",
       " ('OverallQual_10.0', 388438.38888889045)]"
      ]
     },
     "execution_count": 23,
     "metadata": {},
     "output_type": "execute_result"
    }
   ],
   "source": [
    "print(m.intercept_)\n",
    "list(zip(features, m.coef_))"
   ]
  },
  {
   "cell_type": "markdown",
   "metadata": {},
   "source": [
    "Ok this makes sense.  So having a quality of say 8 adds $225000 to your house\n",
    "\n",
    "Note: If we had left OverallQual_10 out, we'd instead have a very high intercept and lots of negative values"
   ]
  },
  {
   "cell_type": "markdown",
   "metadata": {
    "collapsed": true
   },
   "source": [
    "## Next Steps\n",
    "* Make a simple model with sqft + sale quality.  Submit to Kaggle.  Did it get better score than the old one?  Maybe use a few polynomials on sqft but dont go overboard?  Could always do linear+quality, then a few polys+qual, etc.\n",
    "* Add a few extra categoricals to that same model.\n",
    "* Expand to the entire set of categoricals and apply with RidgeCV.  How crazy does that get?  Does it give a better fit?\n",
    "* Use the entire set of categoricals with LassoCV.  How good is that fit?\n",
    "* Use LassoCV's selected features and then refit with RidgeCV.  Improvement on Lasso?\n",
    "* Use the feature selection from scipy, does the feature set seem similar to Lasso?  Try Ridge with those features...  \n",
    "* Were there other things I used in the sqft/simple model?"
   ]
  },
  {
   "cell_type": "markdown",
   "metadata": {
    "collapsed": true
   },
   "source": [
    "## Train sqft + OverallQual"
   ]
  },
  {
   "cell_type": "markdown",
   "metadata": {
    "collapsed": true
   },
   "source": [
    "### Make DataFrame and New Features"
   ]
  },
  {
   "cell_type": "code",
   "execution_count": 28,
   "metadata": {
    "collapsed": true
   },
   "outputs": [],
   "source": [
    "def feat_eng_polys(df, feat, pwrs, inplace=True):\n",
    "    \"\"\"\n",
    "    Given a dataframe and a feature, return a new (add to existing?) dataframe new features that are the pwrs'th power of the feature.\n",
    "    \n",
    "    :param pwrs:\n",
    "        NOT IMPLEMENTED If pwrs=int, return all powers from 1 to that number.\n",
    "        NOT IMPLEMENTED If pwrs=float, return that power.\n",
    "        If pwrs=iterable, return the powers included in pwrs\n",
    "    \"\"\"\n",
    "    f_new = []\n",
    "    if inplace is not True:\n",
    "        df_new = pd.DataFrame(index=df.index)\n",
    "    else:\n",
    "        df_new = df\n",
    "    for p in pwrs:\n",
    "        f_new.append('{:s}_{:s}'.format(feat, str(p)))\n",
    "        df_new[f_new[-1]] = df[feat] ** p\n",
    "\n",
    "    # Does it matter if this gets returned when doing inplace=True?\n",
    "    return df_new, f_new"
   ]
  },
  {
   "cell_type": "code",
   "execution_count": 58,
   "metadata": {
    "collapsed": true
   },
   "outputs": [],
   "source": [
    "def get_RSS(d1, d2):\n",
    "    return ((np.asarray(d1) - np.asarray(d2)) ** 2).sum()\n",
    "def get_RMS(d1, d2):\n",
    "    return np.sqrt(get_RSS(d1, d2)) / len(d1)"
   ]
  },
  {
   "cell_type": "markdown",
   "metadata": {},
   "source": [
    "Add new features\n",
    "* TotLivSF\n",
    "* TotLivSF^N\n",
    "* One-hot of OverallQual"
   ]
  },
  {
   "cell_type": "code",
   "execution_count": 73,
   "metadata": {
    "collapsed": false
   },
   "outputs": [
    {
     "name": "stdout",
     "output_type": "stream",
     "text": [
      "Features for fitting: ['TotLivSF', 'TotLivSF_2', 'TotLivSF_3', 'TotLivSF_4', 'TotLivSF_5', 'OverallQual_2.0', 'OverallQual_3.0', 'OverallQual_4.0', 'OverallQual_5.0', 'OverallQual_6.0', 'OverallQual_7.0', 'OverallQual_8.0', 'OverallQual_9.0', 'OverallQual_10.0']\n"
     ]
    }
   ],
   "source": [
    "data = {'train': train.copy(),\n",
    "        'test': test.copy()}\n",
    "\n",
    "cat_features = ['OverallQual']\n",
    "\n",
    "for k in data.keys():\n",
    "    # Make Total Living Square Footage\n",
    "    data[k].loc[:, 'TotLivSF'] = data[k]['GrLivArea'] + data[k]['BsmtFinSF1'] + data[k]['BsmtFinSF2']\n",
    "    # And sqrt of that\n",
    "#     data[k][:, 'TotLivSF_sqrt'] = np.sqrt(data[k]['TotLivSF'])\n",
    "    # And 2nd to 5th power\n",
    "    data[k], f_new_poly  = feat_eng_polys(data[k], 'TotLivSF', range(2,6), inplace=True)\n",
    "    \n",
    "    # Add one-hot categoricals\n",
    "    # Not sure if this is the best way to get the features, but using a temp variable to store the new features.\n",
    "    # Could also get a set of data[k].columns before and after and take the difference\n",
    "    temp =  pd.get_dummies(data[k][cat_features], columns=cat_features)\n",
    "    f_new_cat = list(temp.columns)\n",
    "    data[k] = pd.concat([data[k], temp], axis=1)\n",
    "    \n",
    "# Make a features list including the new polys and all the categoricals but one\n",
    "features = ['TotLivSF'] + f_new_poly + f_new_cat[1:]\n",
    "print(\"Features for fitting: {0}\".format(features))\n"
   ]
  },
  {
   "cell_type": "markdown",
   "metadata": {
    "collapsed": true
   },
   "source": [
    "Train a RidgeCV model using these features"
   ]
  },
  {
   "cell_type": "code",
   "execution_count": 74,
   "metadata": {
    "collapsed": false
   },
   "outputs": [
    {
     "data": {
      "text/plain": [
       "RidgeCV(alphas=array([  1.00000e-06,   1.00000e-05,   1.00000e-04,   1.00000e-03,\n",
       "         1.00000e-02,   1.00000e-01,   1.00000e+00,   1.00000e+01,\n",
       "         1.00000e+02,   1.00000e+03,   1.00000e+04,   1.00000e+05]),\n",
       "    cv=None, fit_intercept=True, gcv_mode=None, normalize=True,\n",
       "    scoring=None, store_cv_values=False)"
      ]
     },
     "execution_count": 74,
     "metadata": {},
     "output_type": "execute_result"
    }
   ],
   "source": [
    "alphas = np.logspace(-6,5,12)\n",
    "m = linear_model.RidgeCV(normalize=True, alphas=alphas)\n",
    "m.fit(data['train'][features], train[['SalePrice']])"
   ]
  },
  {
   "cell_type": "code",
   "execution_count": 75,
   "metadata": {
    "collapsed": false
   },
   "outputs": [
    {
     "name": "stdout",
     "output_type": "stream",
     "text": [
      "[[  2.80750425e+01   4.31453867e-03   2.40963901e-08  -2.94715659e-11\n",
      "   -3.00556564e-15  -6.53717236e+04  -4.92404343e+04  -3.73898384e+04\n",
      "   -2.58492154e+04  -6.32140658e+03   3.11486076e+04   7.68739167e+04\n",
      "    1.51254519e+05   1.87001735e+05]]\n"
     ]
    }
   ],
   "source": [
    "print(m.coef_)"
   ]
  },
  {
   "cell_type": "code",
   "execution_count": 77,
   "metadata": {
    "collapsed": false
   },
   "outputs": [
    {
     "name": "stdout",
     "output_type": "stream",
     "text": [
      "RSS=2.425835e+16, RMS=106678.72\n"
     ]
    }
   ],
   "source": [
    "predictions = m.predict(data['train'][features])\n",
    "RMS = get_RMS(data['train']['SalePrice'], predictions)\n",
    "RSS = get_RSS(data['train']['SalePrice'], predictions)\n",
    "print(\"RSS={:8e}, RMS={:8.2f}\".format(RSS, RMS))"
   ]
  },
  {
   "cell_type": "code",
   "execution_count": 78,
   "metadata": {
    "collapsed": false
   },
   "outputs": [
    {
     "data": {
      "text/plain": [
       "[<matplotlib.lines.Line2D at 0x16356959e48>]"
      ]
     },
     "execution_count": 78,
     "metadata": {},
     "output_type": "execute_result"
    },
    {
     "data": {
      "image/png": "[encoded data removed]",
      "text/plain": [
       "<matplotlib.figure.Figure at 0x163547ad630>"
      ]
     },
     "metadata": {},
     "output_type": "display_data"
    }
   ],
   "source": [
    "plt.plot(data['train']['TotLivSF'], data['train']['SalePrice'], 'b.')\n",
    "plt.plot(data['train']['TotLivSF'], m.predict(data['train'][features]), 'r.')"
   ]
  },
  {
   "cell_type": "markdown",
   "metadata": {},
   "source": [
    "**Something seems too high about a 100k RMS.  Is this right?  Or does quality really ruin the prediction?\n",
    "WAIT, I didn't remove the outliers.  Is that it???\n",
    "**"
   ]
  }
 ],
 "metadata": {
  "kernelspec": {
   "display_name": "Python 3",
   "language": "python",
   "name": "python3"
  },
  "language_info": {
   "codemirror_mode": {
    "name": "ipython",
    "version": 3
   },
   "file_extension": ".py",
   "mimetype": "text/x-python",
   "name": "python",
   "nbconvert_exporter": "python",
   "pygments_lexer": "ipython3",
   "version": "3.5.2"
  }
 },
 "nbformat": 4,
 "nbformat_minor": 2
}
