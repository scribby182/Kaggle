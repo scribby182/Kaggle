{
 "cells": [
  {
   "cell_type": "markdown",
   "metadata": {},
   "source": [
    "# Simple model using total square feet and number of bedrooms"
   ]
  },
  {
   "cell_type": "code",
   "execution_count": 8,
   "metadata": {
    "collapsed": true
   },
   "outputs": [],
   "source": [
    "import pandas as pd\n",
    "import numpy as np\n",
    "import matplotlib.pyplot as plt"
   ]
  },
  {
   "cell_type": "markdown",
   "metadata": {},
   "source": [
    "## Load data"
   ]
  },
  {
   "cell_type": "code",
   "execution_count": 9,
   "metadata": {
    "collapsed": true
   },
   "outputs": [],
   "source": [
    "train_file = \"../data/train.csv\"\n",
    "train_full = pd.read_csv(train_file)\n",
    "\n",
    "test_file = \"../data/test.csv\"\n",
    "test_full = pd.read_csv(test_file)"
   ]
  },
  {
   "cell_type": "markdown",
   "metadata": {},
   "source": [
    "## Simplify data"
   ]
  },
  {
   "cell_type": "code",
   "execution_count": 10,
   "metadata": {
    "collapsed": false
   },
   "outputs": [],
   "source": [
    "output = \"SalePrice\"\n",
    "# Note: GrLivArea = 1stFlrSF+2ndFlrSF+LowQualFinSF\n",
    "features_simple = [\"1stFlrSF\", \"2ndFlrSF\", \"LowQualFinSF\", \"GrLivArea\", \n",
    "                   \"BsmtFinSF1\", \"BsmtFinSF2\", \"TotalBsmtSF\", \n",
    "                   \"BedroomAbvGr\",\n",
    "                   \"FullBath\", \"HalfBath\", \"BsmtFullBath\", \"BsmtHalfBath\",\n",
    "                   \"GarageArea\", \"WoodDeckSF\", \"OpenPorchSF\", \"EnclosedPorch\", \"3SsnPorch\", \"ScreenPorch\", \"PoolArea\", \"PoolQC\",  \n",
    "                  ]\n",
    "train = train_full[[output] + features_simple].copy()\n",
    "test  =  test_full[features_simple].copy()\n",
    "\n",
    "data = [train, test]"
   ]
  },
  {
   "cell_type": "markdown",
   "metadata": {},
   "source": [
    "## Engineer new features"
   ]
  },
  {
   "cell_type": "markdown",
   "metadata": {},
   "source": [
    "Total sqft living"
   ]
  },
  {
   "cell_type": "code",
   "execution_count": 11,
   "metadata": {
    "collapsed": false
   },
   "outputs": [],
   "source": [
    "for i in range(len(data)):\n",
    "    # Total sqft living\n",
    "#     data[i] = data[i].assign(TotLivSF=data[i]['GrLivArea'] + data[i]['TotalBsmtSF'] + 100)\n",
    "    data[i].loc[:,'TotLivSF'] = data[i]['GrLivArea'] + data[i]['TotalBsmtSF']\n",
    "#     print(data[i][['TotLivSF', 'GrLivArea', 'TotalBsmtSF']])\n"
   ]
  },
  {
   "cell_type": "code",
   "execution_count": 12,
   "metadata": {
    "collapsed": false
   },
   "outputs": [
    {
     "data": {
      "text/plain": [
       "0       2566\n",
       "1       2524\n",
       "2       2706\n",
       "3       2473\n",
       "4       3343\n",
       "5       2158\n",
       "6       3380\n",
       "7       3197\n",
       "8       2726\n",
       "9       2068\n",
       "10      2080\n",
       "11      3499\n",
       "12      1824\n",
       "13      2988\n",
       "14      2506\n",
       "15      1686\n",
       "16      2008\n",
       "17      1296\n",
       "18      2228\n",
       "19      2368\n",
       "20      3534\n",
       "21      1745\n",
       "22      3572\n",
       "23      2100\n",
       "24      2120\n",
       "25      3166\n",
       "26      1800\n",
       "27      3408\n",
       "28      3084\n",
       "29      1040\n",
       "        ... \n",
       "1430    2570\n",
       "1431    1916\n",
       "1432    1624\n",
       "1433    2728\n",
       "1434    2252\n",
       "1435    2856\n",
       "1436    1728\n",
       "1437    3864\n",
       "1438    2148\n",
       "1439    2264\n",
       "1440    3143\n",
       "1441    1696\n",
       "1442    3024\n",
       "1443    1904\n",
       "1444    2844\n",
       "1445    1727\n",
       "1446    2376\n",
       "1447    3310\n",
       "1448    1906\n",
       "1449    1260\n",
       "1450    2688\n",
       "1451    3151\n",
       "1452    1619\n",
       "1453    2280\n",
       "1454    2442\n",
       "1455    2600\n",
       "1456    3615\n",
       "1457    3492\n",
       "1458    2156\n",
       "1459    2512\n",
       "Name: TotLivSF, dtype: int64"
      ]
     },
     "execution_count": 12,
     "metadata": {},
     "output_type": "execute_result"
    }
   ],
   "source": [
    "train['TotLivSF']"
   ]
  },
  {
   "cell_type": "code",
   "execution_count": null,
   "metadata": {
    "collapsed": false
   },
   "outputs": [],
   "source": [
    "l = len(train)\n",
    "print(l)\n",
    "\n",
    "train = train.assign(f= train['1stFlrSF'] + train['2ndFlrSF'] + train['LowQualFinSF'])"
   ]
  },
  {
   "cell_type": "code",
   "execution_count": null,
   "metadata": {
    "collapsed": false
   },
   "outputs": [],
   "source": [
    "train.LowQualFinSF"
   ]
  },
  {
   "cell_type": "code",
   "execution_count": null,
   "metadata": {
    "collapsed": false
   },
   "outputs": [],
   "source": [
    "train[(train.GrLivArea - train.f) != 0]"
   ]
  },
  {
   "cell_type": "code",
   "execution_count": null,
   "metadata": {
    "collapsed": false
   },
   "outputs": [],
   "source": [
    "train[(train.GrLivArea - train.f) != 0]"
   ]
  },
  {
   "cell_type": "code",
   "execution_count": null,
   "metadata": {
    "collapsed": false
   },
   "outputs": [],
   "source": [
    "train['GrLivAreaTest'] = train.apply(\n",
    "    lambda ds: ds['1stFlrSF'] + ds['2ndFlrSF'], axis=1)"
   ]
  },
  {
   "cell_type": "code",
   "execution_count": null,
   "metadata": {
    "collapsed": false
   },
   "outputs": [],
   "source": [
    "train.loc[:,'GrLivAreaTest'] = train['1stFlrSF'] + train['2ndFlrSF']"
   ]
  },
  {
   "cell_type": "code",
   "execution_count": null,
   "metadata": {
    "collapsed": true
   },
   "outputs": [],
   "source": []
  }
 ],
 "metadata": {
  "kernelspec": {
   "display_name": "Python 3",
   "language": "python",
   "name": "python3"
  },
  "language_info": {
   "codemirror_mode": {
    "name": "ipython",
    "version": 3
   },
   "file_extension": ".py",
   "mimetype": "text/x-python",
   "name": "python",
   "nbconvert_exporter": "python",
   "pygments_lexer": "ipython3",
   "version": "3.5.1"
  }
 },
 "nbformat": 4,
 "nbformat_minor": 0
}
